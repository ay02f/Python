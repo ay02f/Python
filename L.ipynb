{
  "nbformat": 4,
  "nbformat_minor": 0,
  "metadata": {
    "colab": {
      "provenance": [],
      "authorship_tag": "ABX9TyPP7goDaEcnH7owx1oPdOxA",
      "include_colab_link": true
    },
    "kernelspec": {
      "name": "python3",
      "display_name": "Python 3"
    },
    "language_info": {
      "name": "python"
    }
  },
  "cells": [
    {
      "cell_type": "markdown",
      "metadata": {
        "id": "view-in-github",
        "colab_type": "text"
      },
      "source": [
        "<a href=\"https://colab.research.google.com/github/ay02f/Python/blob/main/L.ipynb\" target=\"_parent\"><img src=\"https://colab.research.google.com/assets/colab-badge.svg\" alt=\"Open In Colab\"/></a>"
      ]
    },
    {
      "cell_type": "code",
      "execution_count": 1,
      "metadata": {
        "id": "fcKMvlFSIlWn",
        "colab": {
          "base_uri": "https://localhost:8080/"
        },
        "outputId": "b029a904-5ac9-46aa-bf34-1a68cf649417"
      },
      "outputs": [
        {
          "output_type": "stream",
          "name": "stdout",
          "text": [
            "Hello\n",
            "30\n"
          ]
        }
      ],
      "source": [
        "print(\"Hello\")\n",
        "\n",
        "number01 = 10\n",
        "number02 = 20\n",
        "\n",
        "print(number01+number02)"
      ]
    }
  ]
}