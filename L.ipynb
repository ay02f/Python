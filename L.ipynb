{
  "nbformat": 4,
  "nbformat_minor": 0,
  "metadata": {
    "colab": {
      "provenance": [],
      "authorship_tag": "ABX9TyOn2MJBRmFRpJXaJXYqTr8i",
      "include_colab_link": true
    },
    "kernelspec": {
      "name": "python3",
      "display_name": "Python 3"
    },
    "language_info": {
      "name": "python"
    }
  },
  "cells": [
    {
      "cell_type": "markdown",
      "metadata": {
        "id": "view-in-github",
        "colab_type": "text"
      },
      "source": [
        "<a href=\"https://colab.research.google.com/github/ay02f/Python/blob/main/L.ipynb\" target=\"_parent\"><img src=\"https://colab.research.google.com/assets/colab-badge.svg\" alt=\"Open In Colab\"/></a>"
      ]
    },
    {
      "cell_type": "code",
      "execution_count": 3,
      "metadata": {
        "id": "fcKMvlFSIlWn",
        "colab": {
          "base_uri": "https://localhost:8080/"
        },
        "outputId": "6448fd34-129d-464a-8198-65966d81bf0a"
      },
      "outputs": [
        {
          "output_type": "stream",
          "name": "stdout",
          "text": [
            "number is more than 0\n",
            "30\n"
          ]
        }
      ],
      "source": [
        "#print(\"Hello\")\n",
        "\n",
        "number01 = 10\n",
        "number02 = 20\n",
        "\n",
        "if number01 >=0:\n",
        "    print(\"number is more than 0\")\n",
        "\n",
        "total = number01+number02\n",
        "print(total)\n",
        "\n"
      ]
    }
  ]
}